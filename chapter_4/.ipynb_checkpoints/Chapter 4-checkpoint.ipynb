{
 "cells": [
  {
   "cell_type": "code",
   "execution_count": null,
   "metadata": {},
   "outputs": [],
   "source": [
    "import numpy as np\n",
    "from np.linalg import matrix_power"
   ]
  },
  {
   "cell_type": "code",
   "execution_count": null,
   "metadata": {},
   "outputs": [],
   "source": [
    "# Randomly generate Adjacency Matrix"
   ]
  },
  {
   "cell_type": "code",
   "execution_count": null,
   "metadata": {},
   "outputs": [],
   "source": [
    "# returns the sum of the [0,n] powers of M\n",
    "def sum_of_powers(M, n):\n",
    "    result = np.zeros(M.shape)\n",
    "    for i in range(n)\n",
    "        result += matrix_power(M, i)\n",
    "    return result\n",
    "\n",
    "def is_irreducible(M):\n",
    "    M_sum = np.zeros(M)\n",
    "    Mk = matrix_power(M, )\n",
    "    \n",
    "def is_node_globally_reachable(M):\n",
    "    power_sum = sum_of_powers(M, M.shape)\n",
    "    "
   ]
  }
 ],
 "metadata": {
  "kernelspec": {
   "display_name": "Python 3",
   "language": "python",
   "name": "python3"
  },
  "language_info": {
   "codemirror_mode": {
    "name": "ipython",
    "version": 3
   },
   "file_extension": ".py",
   "mimetype": "text/x-python",
   "name": "python",
   "nbconvert_exporter": "python",
   "pygments_lexer": "ipython3",
   "version": "3.7.4"
  }
 },
 "nbformat": 4,
 "nbformat_minor": 2
}
